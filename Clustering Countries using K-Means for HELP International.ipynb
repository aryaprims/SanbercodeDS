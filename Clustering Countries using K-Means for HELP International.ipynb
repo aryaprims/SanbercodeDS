{
  "nbformat": 4,
  "nbformat_minor": 0,
  "metadata": {
    "colab": {
      "name": "FinalProject_ARYA PRIMA AL AUFAR.ipynb",
      "provenance": [],
      "collapsed_sections": []
    },
    "kernelspec": {
      "name": "python3",
      "display_name": "Python 3"
    },
    "language_info": {
      "name": "python"
    }
  },
  "cells": [
    {
      "cell_type": "code",
      "metadata": {
        "id": "IKzM41R_fiFG"
      },
      "source": [
        "import pandas as pd\n",
        "import matplotlib.pyplot as plt\n",
        "import numpy as np\n",
        "import math "
      ],
      "execution_count": 23,
      "outputs": []
    },
    {
      "cell_type": "code",
      "metadata": {
        "colab": {
          "base_uri": "https://localhost:8080/"
        },
        "id": "gYB7r_tccP73",
        "outputId": "da0ee961-4c5f-467b-8496-ee9d0f09c126"
      },
      "source": [
        "!wget 'https://drive.google.com/uc?export=download&id=1WrbvqsWUUlqFStXHyFmrzBmr-1E99lf9' -O Data_Negara_HELP.csv"
      ],
      "execution_count": 24,
      "outputs": [
        {
          "output_type": "stream",
          "text": [
            "--2021-04-18 03:03:38--  https://drive.google.com/uc?export=download&id=1WrbvqsWUUlqFStXHyFmrzBmr-1E99lf9\n",
            "Resolving drive.google.com (drive.google.com)... 172.217.164.14, 2607:f8b0:4025:803::200e\n",
            "Connecting to drive.google.com (drive.google.com)|172.217.164.14|:443... connected.\n",
            "HTTP request sent, awaiting response... 302 Moved Temporarily\n",
            "Location: https://doc-08-7g-docs.googleusercontent.com/docs/securesc/ha0ro937gcuc7l7deffksulhg5h7mbp1/5rus0f5i9nrs3s5shb4fjq1lo3cigdnt/1618714950000/06287560445691811212/*/1WrbvqsWUUlqFStXHyFmrzBmr-1E99lf9?e=download [following]\n",
            "Warning: wildcards not supported in HTTP.\n",
            "--2021-04-18 03:03:38--  https://doc-08-7g-docs.googleusercontent.com/docs/securesc/ha0ro937gcuc7l7deffksulhg5h7mbp1/5rus0f5i9nrs3s5shb4fjq1lo3cigdnt/1618714950000/06287560445691811212/*/1WrbvqsWUUlqFStXHyFmrzBmr-1E99lf9?e=download\n",
            "Resolving doc-08-7g-docs.googleusercontent.com (doc-08-7g-docs.googleusercontent.com)... 172.217.15.225, 2607:f8b0:4025:802::2001\n",
            "Connecting to doc-08-7g-docs.googleusercontent.com (doc-08-7g-docs.googleusercontent.com)|172.217.15.225|:443... connected.\n",
            "HTTP request sent, awaiting response... 200 OK\n",
            "Length: 9251 (9.0K) [text/csv]\n",
            "Saving to: ‘Data_Negara_HELP.csv’\n",
            "\n",
            "Data_Negara_HELP.cs 100%[===================>]   9.03K  --.-KB/s    in 0s      \n",
            "\n",
            "2021-04-18 03:03:39 (63.6 MB/s) - ‘Data_Negara_HELP.csv’ saved [9251/9251]\n",
            "\n"
          ],
          "name": "stdout"
        }
      ]
    },
    {
      "cell_type": "markdown",
      "metadata": {
        "id": "ZZgk5p8RgYLE"
      },
      "source": [
        "Read CSV"
      ]
    },
    {
      "cell_type": "code",
      "metadata": {
        "colab": {
          "base_uri": "https://localhost:8080/",
          "height": 399
        },
        "id": "kCfT6vV8gFqA",
        "outputId": "f3bc6a70-bbdd-42ae-b143-bfcd6768168a"
      },
      "source": [
        "df_train = pd.read_csv('Data_Negara_HELP.csv')\n",
        "\n",
        "df_train"
      ],
      "execution_count": 25,
      "outputs": [
        {
          "output_type": "execute_result",
          "data": {
            "text/html": [
              "<div>\n",
              "<style scoped>\n",
              "    .dataframe tbody tr th:only-of-type {\n",
              "        vertical-align: middle;\n",
              "    }\n",
              "\n",
              "    .dataframe tbody tr th {\n",
              "        vertical-align: top;\n",
              "    }\n",
              "\n",
              "    .dataframe thead th {\n",
              "        text-align: right;\n",
              "    }\n",
              "</style>\n",
              "<table border=\"1\" class=\"dataframe\">\n",
              "  <thead>\n",
              "    <tr style=\"text-align: right;\">\n",
              "      <th></th>\n",
              "      <th>Negara</th>\n",
              "      <th>Kematian_anak</th>\n",
              "      <th>Ekspor</th>\n",
              "      <th>Kesehatan</th>\n",
              "      <th>Impor</th>\n",
              "      <th>Pendapatan</th>\n",
              "      <th>Inflasi</th>\n",
              "      <th>Harapan_hidup</th>\n",
              "      <th>Jumlah_fertiliti</th>\n",
              "      <th>GDPperkapita</th>\n",
              "    </tr>\n",
              "  </thead>\n",
              "  <tbody>\n",
              "    <tr>\n",
              "      <th>0</th>\n",
              "      <td>Afghanistan</td>\n",
              "      <td>90.2</td>\n",
              "      <td>10.0</td>\n",
              "      <td>7.58</td>\n",
              "      <td>44.9</td>\n",
              "      <td>1610</td>\n",
              "      <td>9.44</td>\n",
              "      <td>56.2</td>\n",
              "      <td>5.82</td>\n",
              "      <td>553</td>\n",
              "    </tr>\n",
              "    <tr>\n",
              "      <th>1</th>\n",
              "      <td>Albania</td>\n",
              "      <td>16.6</td>\n",
              "      <td>28.0</td>\n",
              "      <td>6.55</td>\n",
              "      <td>48.6</td>\n",
              "      <td>9930</td>\n",
              "      <td>4.49</td>\n",
              "      <td>76.3</td>\n",
              "      <td>1.65</td>\n",
              "      <td>4090</td>\n",
              "    </tr>\n",
              "    <tr>\n",
              "      <th>2</th>\n",
              "      <td>Algeria</td>\n",
              "      <td>27.3</td>\n",
              "      <td>38.4</td>\n",
              "      <td>4.17</td>\n",
              "      <td>31.4</td>\n",
              "      <td>12900</td>\n",
              "      <td>16.10</td>\n",
              "      <td>76.5</td>\n",
              "      <td>2.89</td>\n",
              "      <td>4460</td>\n",
              "    </tr>\n",
              "    <tr>\n",
              "      <th>3</th>\n",
              "      <td>Angola</td>\n",
              "      <td>119.0</td>\n",
              "      <td>62.3</td>\n",
              "      <td>2.85</td>\n",
              "      <td>42.9</td>\n",
              "      <td>5900</td>\n",
              "      <td>22.40</td>\n",
              "      <td>60.1</td>\n",
              "      <td>6.16</td>\n",
              "      <td>3530</td>\n",
              "    </tr>\n",
              "    <tr>\n",
              "      <th>4</th>\n",
              "      <td>Antigua and Barbuda</td>\n",
              "      <td>10.3</td>\n",
              "      <td>45.5</td>\n",
              "      <td>6.03</td>\n",
              "      <td>58.9</td>\n",
              "      <td>19100</td>\n",
              "      <td>1.44</td>\n",
              "      <td>76.8</td>\n",
              "      <td>2.13</td>\n",
              "      <td>12200</td>\n",
              "    </tr>\n",
              "    <tr>\n",
              "      <th>...</th>\n",
              "      <td>...</td>\n",
              "      <td>...</td>\n",
              "      <td>...</td>\n",
              "      <td>...</td>\n",
              "      <td>...</td>\n",
              "      <td>...</td>\n",
              "      <td>...</td>\n",
              "      <td>...</td>\n",
              "      <td>...</td>\n",
              "      <td>...</td>\n",
              "    </tr>\n",
              "    <tr>\n",
              "      <th>162</th>\n",
              "      <td>Vanuatu</td>\n",
              "      <td>29.2</td>\n",
              "      <td>46.6</td>\n",
              "      <td>5.25</td>\n",
              "      <td>52.7</td>\n",
              "      <td>2950</td>\n",
              "      <td>2.62</td>\n",
              "      <td>63.0</td>\n",
              "      <td>3.50</td>\n",
              "      <td>2970</td>\n",
              "    </tr>\n",
              "    <tr>\n",
              "      <th>163</th>\n",
              "      <td>Venezuela</td>\n",
              "      <td>17.1</td>\n",
              "      <td>28.5</td>\n",
              "      <td>4.91</td>\n",
              "      <td>17.6</td>\n",
              "      <td>16500</td>\n",
              "      <td>45.90</td>\n",
              "      <td>75.4</td>\n",
              "      <td>2.47</td>\n",
              "      <td>13500</td>\n",
              "    </tr>\n",
              "    <tr>\n",
              "      <th>164</th>\n",
              "      <td>Vietnam</td>\n",
              "      <td>23.3</td>\n",
              "      <td>72.0</td>\n",
              "      <td>6.84</td>\n",
              "      <td>80.2</td>\n",
              "      <td>4490</td>\n",
              "      <td>12.10</td>\n",
              "      <td>73.1</td>\n",
              "      <td>1.95</td>\n",
              "      <td>1310</td>\n",
              "    </tr>\n",
              "    <tr>\n",
              "      <th>165</th>\n",
              "      <td>Yemen</td>\n",
              "      <td>56.3</td>\n",
              "      <td>30.0</td>\n",
              "      <td>5.18</td>\n",
              "      <td>34.4</td>\n",
              "      <td>4480</td>\n",
              "      <td>23.60</td>\n",
              "      <td>67.5</td>\n",
              "      <td>4.67</td>\n",
              "      <td>1310</td>\n",
              "    </tr>\n",
              "    <tr>\n",
              "      <th>166</th>\n",
              "      <td>Zambia</td>\n",
              "      <td>83.1</td>\n",
              "      <td>37.0</td>\n",
              "      <td>5.89</td>\n",
              "      <td>30.9</td>\n",
              "      <td>3280</td>\n",
              "      <td>14.00</td>\n",
              "      <td>52.0</td>\n",
              "      <td>5.40</td>\n",
              "      <td>1460</td>\n",
              "    </tr>\n",
              "  </tbody>\n",
              "</table>\n",
              "<p>167 rows × 10 columns</p>\n",
              "</div>"
            ],
            "text/plain": [
              "                  Negara  Kematian_anak  ...  Jumlah_fertiliti  GDPperkapita\n",
              "0            Afghanistan           90.2  ...              5.82           553\n",
              "1                Albania           16.6  ...              1.65          4090\n",
              "2                Algeria           27.3  ...              2.89          4460\n",
              "3                 Angola          119.0  ...              6.16          3530\n",
              "4    Antigua and Barbuda           10.3  ...              2.13         12200\n",
              "..                   ...            ...  ...               ...           ...\n",
              "162              Vanuatu           29.2  ...              3.50          2970\n",
              "163            Venezuela           17.1  ...              2.47         13500\n",
              "164              Vietnam           23.3  ...              1.95          1310\n",
              "165                Yemen           56.3  ...              4.67          1310\n",
              "166               Zambia           83.1  ...              5.40          1460\n",
              "\n",
              "[167 rows x 10 columns]"
            ]
          },
          "metadata": {
            "tags": []
          },
          "execution_count": 25
        }
      ]
    },
    {
      "cell_type": "markdown",
      "metadata": {
        "id": "cNIOTKJrgk6T"
      },
      "source": [
        "Eksplorasi"
      ]
    },
    {
      "cell_type": "code",
      "metadata": {
        "colab": {
          "base_uri": "https://localhost:8080/"
        },
        "id": "U6rx0IcTgmL2",
        "outputId": "26ce44b4-1ecf-45f1-bba7-0e212068c46b"
      },
      "source": [
        "df_train.info()"
      ],
      "execution_count": 26,
      "outputs": [
        {
          "output_type": "stream",
          "text": [
            "<class 'pandas.core.frame.DataFrame'>\n",
            "RangeIndex: 167 entries, 0 to 166\n",
            "Data columns (total 10 columns):\n",
            " #   Column            Non-Null Count  Dtype  \n",
            "---  ------            --------------  -----  \n",
            " 0   Negara            167 non-null    object \n",
            " 1   Kematian_anak     167 non-null    float64\n",
            " 2   Ekspor            167 non-null    float64\n",
            " 3   Kesehatan         167 non-null    float64\n",
            " 4   Impor             167 non-null    float64\n",
            " 5   Pendapatan        167 non-null    int64  \n",
            " 6   Inflasi           167 non-null    float64\n",
            " 7   Harapan_hidup     167 non-null    float64\n",
            " 8   Jumlah_fertiliti  167 non-null    float64\n",
            " 9   GDPperkapita      167 non-null    int64  \n",
            "dtypes: float64(7), int64(2), object(1)\n",
            "memory usage: 13.2+ KB\n"
          ],
          "name": "stdout"
        }
      ]
    },
    {
      "cell_type": "code",
      "metadata": {
        "id": "2btL7kzpilwa"
      },
      "source": [
        "df_train2 = df_train.drop(['Negara'], axis=1)"
      ],
      "execution_count": 27,
      "outputs": []
    },
    {
      "cell_type": "markdown",
      "metadata": {
        "id": "inA_EEjp3mlc"
      },
      "source": [
        "Korelasi Data"
      ]
    },
    {
      "cell_type": "code",
      "metadata": {
        "colab": {
          "base_uri": "https://localhost:8080/",
          "height": 567
        },
        "id": "R8PnvXbngo3X",
        "outputId": "67cf9bb7-6955-42a4-d27d-090f2b7c08ae"
      },
      "source": [
        "import seaborn as sns\n",
        "\n",
        "plt.figure(figsize=(12,8))\n",
        "dftrain_corr = df_train2.corr(method='spearman')\n",
        "sns.heatmap(dftrain_corr, annot=True)\n",
        "plt.title('Variabel Korelasi', size = 15)\n",
        "plt.show()"
      ],
      "execution_count": 28,
      "outputs": [
        {
          "output_type": "display_data",
          "data": {
            "image/png": "[encoded data removed]",
            "text/plain": [
              "<Figure size 864x576 with 2 Axes>"
            ]
          },
          "metadata": {
            "tags": [],
            "needs_background": "light"
          }
        }
      ]
    },
    {
      "cell_type": "markdown",
      "metadata": {
        "id": "5A3-jUAw3pCn"
      },
      "source": [
        "Feature Engineering"
      ]
    },
    {
      "cell_type": "code",
      "metadata": {
        "id": "kudRMRB41wDV"
      },
      "source": [
        "columns = np.full((dftrain_corr.shape[0],), True, dtype=bool)\n",
        "for i in range(dftrain_corr.shape[0]):\n",
        "    for j in range(i+1, dftrain_corr.shape[0]):\n",
        "        if dftrain_corr.iloc[i,j] >= -0.2:\n",
        "            if columns[j]:\n",
        "                columns[j] = False\n",
        "selected_columns = df_train2.columns[columns]\n",
        "dftrain_features = df_train2[selected_columns]"
      ],
      "execution_count": 29,
      "outputs": []
    },
    {
      "cell_type": "code",
      "metadata": {
        "colab": {
          "base_uri": "https://localhost:8080/",
          "height": 399
        },
        "id": "UC0M9bjDiTTD",
        "outputId": "9840f811-6beb-451a-d561-80fde9adbd5a"
      },
      "source": [
        "dftrain_features"
      ],
      "execution_count": 30,
      "outputs": [
        {
          "output_type": "execute_result",
          "data": {
            "text/html": [
              "<div>\n",
              "<style scoped>\n",
              "    .dataframe tbody tr th:only-of-type {\n",
              "        vertical-align: middle;\n",
              "    }\n",
              "\n",
              "    .dataframe tbody tr th {\n",
              "        vertical-align: top;\n",
              "    }\n",
              "\n",
              "    .dataframe thead th {\n",
              "        text-align: right;\n",
              "    }\n",
              "</style>\n",
              "<table border=\"1\" class=\"dataframe\">\n",
              "  <thead>\n",
              "    <tr style=\"text-align: right;\">\n",
              "      <th></th>\n",
              "      <th>Kematian_anak</th>\n",
              "      <th>Ekspor</th>\n",
              "    </tr>\n",
              "  </thead>\n",
              "  <tbody>\n",
              "    <tr>\n",
              "      <th>0</th>\n",
              "      <td>90.2</td>\n",
              "      <td>10.0</td>\n",
              "    </tr>\n",
              "    <tr>\n",
              "      <th>1</th>\n",
              "      <td>16.6</td>\n",
              "      <td>28.0</td>\n",
              "    </tr>\n",
              "    <tr>\n",
              "      <th>2</th>\n",
              "      <td>27.3</td>\n",
              "      <td>38.4</td>\n",
              "    </tr>\n",
              "    <tr>\n",
              "      <th>3</th>\n",
              "      <td>119.0</td>\n",
              "      <td>62.3</td>\n",
              "    </tr>\n",
              "    <tr>\n",
              "      <th>4</th>\n",
              "      <td>10.3</td>\n",
              "      <td>45.5</td>\n",
              "    </tr>\n",
              "    <tr>\n",
              "      <th>...</th>\n",
              "      <td>...</td>\n",
              "      <td>...</td>\n",
              "    </tr>\n",
              "    <tr>\n",
              "      <th>162</th>\n",
              "      <td>29.2</td>\n",
              "      <td>46.6</td>\n",
              "    </tr>\n",
              "    <tr>\n",
              "      <th>163</th>\n",
              "      <td>17.1</td>\n",
              "      <td>28.5</td>\n",
              "    </tr>\n",
              "    <tr>\n",
              "      <th>164</th>\n",
              "      <td>23.3</td>\n",
              "      <td>72.0</td>\n",
              "    </tr>\n",
              "    <tr>\n",
              "      <th>165</th>\n",
              "      <td>56.3</td>\n",
              "      <td>30.0</td>\n",
              "    </tr>\n",
              "    <tr>\n",
              "      <th>166</th>\n",
              "      <td>83.1</td>\n",
              "      <td>37.0</td>\n",
              "    </tr>\n",
              "  </tbody>\n",
              "</table>\n",
              "<p>167 rows × 2 columns</p>\n",
              "</div>"
            ],
            "text/plain": [
              "     Kematian_anak  Ekspor\n",
              "0             90.2    10.0\n",
              "1             16.6    28.0\n",
              "2             27.3    38.4\n",
              "3            119.0    62.3\n",
              "4             10.3    45.5\n",
              "..             ...     ...\n",
              "162           29.2    46.6\n",
              "163           17.1    28.5\n",
              "164           23.3    72.0\n",
              "165           56.3    30.0\n",
              "166           83.1    37.0\n",
              "\n",
              "[167 rows x 2 columns]"
            ]
          },
          "metadata": {
            "tags": []
          },
          "execution_count": 30
        }
      ]
    },
    {
      "cell_type": "markdown",
      "metadata": {
        "id": "v_G_7k4b3sjB"
      },
      "source": [
        "Handling Outliers"
      ]
    },
    {
      "cell_type": "code",
      "metadata": {
        "colab": {
          "base_uri": "https://localhost:8080/",
          "height": 502
        },
        "id": "qCzAD7UfjTy5",
        "outputId": "cabd883a-597b-4fda-a8e1-9826773af3dc"
      },
      "source": [
        "import seaborn as sns\n",
        "\n",
        "plt.figure(figsize=(12,8))\n",
        "sns.boxplot(data=dftrain_features)"
      ],
      "execution_count": 31,
      "outputs": [
        {
          "output_type": "execute_result",
          "data": {
            "text/plain": [
              "<matplotlib.axes._subplots.AxesSubplot at 0x7fee04a62910>"
            ]
          },
          "metadata": {
            "tags": []
          },
          "execution_count": 31
        },
        {
          "output_type": "display_data",
          "data": {
            "image/png": "[encoded data removed]",
            "text/plain": [
              "<Figure size 864x576 with 1 Axes>"
            ]
          },
          "metadata": {
            "tags": [],
            "needs_background": "light"
          }
        }
      ]
    },
    {
      "cell_type": "code",
      "metadata": {
        "colab": {
          "base_uri": "https://localhost:8080/",
          "height": 698
        },
        "id": "NCovncLTjYFI",
        "outputId": "f505cdd3-39a7-417e-f4c6-a89f234bbf7e"
      },
      "source": [
        "def apply(x):\n",
        "  if x > ub:\n",
        "    return ub\n",
        "  elif x < lb:\n",
        "    return lb\n",
        "  else:\n",
        "    return x\n",
        "\n",
        "q1 = dftrain_features['Kematian_anak'].quantile(0.25)\n",
        "q3 = dftrain_features['Kematian_anak'].quantile(0.75)\n",
        "iqr = q3 - q1\n",
        "\n",
        "lb = q1 - (iqr * 1.5)\n",
        "ub = q3 + (iqr * 1.5)\n",
        "\n",
        "dftrain_features['Kematian_anak'] = dftrain_features['Kematian_anak'].apply(apply)\n",
        "\n",
        "q1 = dftrain_features['Ekspor'].quantile(0.25)\n",
        "q3 = dftrain_features['Ekspor'].quantile(0.75)\n",
        "iqr = q3 - q1\n",
        "\n",
        "lb = q1 - (iqr * 1.5)\n",
        "ub = q3 + (iqr * 1.5)\n",
        "\n",
        "dftrain_features['Ekspor'] = dftrain_features['Ekspor'].apply(apply)\n",
        "\n",
        "plt.figure(figsize=(12,8))\n",
        "sns.boxplot(data=dftrain_features)"
      ],
      "execution_count": 32,
      "outputs": [
        {
          "output_type": "stream",
          "text": [
            "/usr/local/lib/python3.7/dist-packages/ipykernel_launcher.py:16: SettingWithCopyWarning: \n",
            "A value is trying to be set on a copy of a slice from a DataFrame.\n",
            "Try using .loc[row_indexer,col_indexer] = value instead\n",
            "\n",
            "See the caveats in the documentation: https://pandas.pydata.org/pandas-docs/stable/user_guide/indexing.html#returning-a-view-versus-a-copy\n",
            "  app.launch_new_instance()\n",
            "/usr/local/lib/python3.7/dist-packages/ipykernel_launcher.py:25: SettingWithCopyWarning: \n",
            "A value is trying to be set on a copy of a slice from a DataFrame.\n",
            "Try using .loc[row_indexer,col_indexer] = value instead\n",
            "\n",
            "See the caveats in the documentation: https://pandas.pydata.org/pandas-docs/stable/user_guide/indexing.html#returning-a-view-versus-a-copy\n"
          ],
          "name": "stderr"
        },
        {
          "output_type": "execute_result",
          "data": {
            "text/plain": [
              "<matplotlib.axes._subplots.AxesSubplot at 0x7fee04b4d250>"
            ]
          },
          "metadata": {
            "tags": []
          },
          "execution_count": 32
        },
        {
          "output_type": "display_data",
          "data": {
            "image/png": "[encoded data removed]",
            "text/plain": [
              "<Figure size 864x576 with 1 Axes>"
            ]
          },
          "metadata": {
            "tags": [],
            "needs_background": "light"
          }
        }
      ]
    },
    {
      "cell_type": "markdown",
      "metadata": {
        "id": "bPslphWk3vVw"
      },
      "source": [
        "Scalling"
      ]
    },
    {
      "cell_type": "code",
      "metadata": {
        "colab": {
          "base_uri": "https://localhost:8080/",
          "height": 399
        },
        "id": "cb4oZ_lCkO0I",
        "outputId": "b5f9c832-4bcf-4e8f-cfcb-3a9bf9f0da80"
      },
      "source": [
        "from sklearn.preprocessing import StandardScaler\n",
        "scal = StandardScaler().fit_transform(dftrain_features)\n",
        "dftrain_scal = pd.DataFrame(scal, columns=['Kematian_anak','Ekspor'])\n",
        "\n",
        "dftrain_scal"
      ],
      "execution_count": 33,
      "outputs": [
        {
          "output_type": "execute_result",
          "data": {
            "text/html": [
              "<div>\n",
              "<style scoped>\n",
              "    .dataframe tbody tr th:only-of-type {\n",
              "        vertical-align: middle;\n",
              "    }\n",
              "\n",
              "    .dataframe tbody tr th {\n",
              "        vertical-align: top;\n",
              "    }\n",
              "\n",
              "    .dataframe thead th {\n",
              "        text-align: right;\n",
              "    }\n",
              "</style>\n",
              "<table border=\"1\" class=\"dataframe\">\n",
              "  <thead>\n",
              "    <tr style=\"text-align: right;\">\n",
              "      <th></th>\n",
              "      <th>Kematian_anak</th>\n",
              "      <th>Ekspor</th>\n",
              "    </tr>\n",
              "  </thead>\n",
              "  <tbody>\n",
              "    <tr>\n",
              "      <th>0</th>\n",
              "      <td>1.369802</td>\n",
              "      <td>-1.391107</td>\n",
              "    </tr>\n",
              "    <tr>\n",
              "      <th>1</th>\n",
              "      <td>-0.550464</td>\n",
              "      <td>-0.543547</td>\n",
              "    </tr>\n",
              "    <tr>\n",
              "      <th>2</th>\n",
              "      <td>-0.271295</td>\n",
              "      <td>-0.053846</td>\n",
              "    </tr>\n",
              "    <tr>\n",
              "      <th>3</th>\n",
              "      <td>2.121210</td>\n",
              "      <td>1.071524</td>\n",
              "    </tr>\n",
              "    <tr>\n",
              "      <th>4</th>\n",
              "      <td>-0.714835</td>\n",
              "      <td>0.280469</td>\n",
              "    </tr>\n",
              "    <tr>\n",
              "      <th>...</th>\n",
              "      <td>...</td>\n",
              "      <td>...</td>\n",
              "    </tr>\n",
              "    <tr>\n",
              "      <th>162</th>\n",
              "      <td>-0.221723</td>\n",
              "      <td>0.332264</td>\n",
              "    </tr>\n",
              "    <tr>\n",
              "      <th>163</th>\n",
              "      <td>-0.537419</td>\n",
              "      <td>-0.520004</td>\n",
              "    </tr>\n",
              "    <tr>\n",
              "      <th>164</th>\n",
              "      <td>-0.375657</td>\n",
              "      <td>1.528265</td>\n",
              "    </tr>\n",
              "    <tr>\n",
              "      <th>165</th>\n",
              "      <td>0.485332</td>\n",
              "      <td>-0.449374</td>\n",
              "    </tr>\n",
              "    <tr>\n",
              "      <th>166</th>\n",
              "      <td>1.184559</td>\n",
              "      <td>-0.119768</td>\n",
              "    </tr>\n",
              "  </tbody>\n",
              "</table>\n",
              "<p>167 rows × 2 columns</p>\n",
              "</div>"
            ],
            "text/plain": [
              "     Kematian_anak    Ekspor\n",
              "0         1.369802 -1.391107\n",
              "1        -0.550464 -0.543547\n",
              "2        -0.271295 -0.053846\n",
              "3         2.121210  1.071524\n",
              "4        -0.714835  0.280469\n",
              "..             ...       ...\n",
              "162      -0.221723  0.332264\n",
              "163      -0.537419 -0.520004\n",
              "164      -0.375657  1.528265\n",
              "165       0.485332 -0.449374\n",
              "166       1.184559 -0.119768\n",
              "\n",
              "[167 rows x 2 columns]"
            ]
          },
          "metadata": {
            "tags": []
          },
          "execution_count": 33
        }
      ]
    },
    {
      "cell_type": "markdown",
      "metadata": {
        "id": "DNh4fyry3xxw"
      },
      "source": [
        "Evaluation dengan Elbow Method"
      ]
    },
    {
      "cell_type": "code",
      "metadata": {
        "colab": {
          "base_uri": "https://localhost:8080/",
          "height": 513
        },
        "id": "QEqFE1HDkxzb",
        "outputId": "81368938-55e5-43ea-f1b3-5e7e590a8c25"
      },
      "source": [
        "from sklearn.cluster import KMeans\n",
        "#Elbow Method\n",
        "inertias = []\n",
        "mapping2 = {}\n",
        "K = range(1, 10)\n",
        "\n",
        "for k in K:\n",
        "    # Building and fitting the model\n",
        "    kmeanModel = KMeans(n_clusters=k).fit(dftrain_scal)\n",
        "    kmeanModel.fit(dftrain_scal)\n",
        " \n",
        "    inertias.append(kmeanModel.inertia_)\n",
        "    mapping2[k] = kmeanModel.inertia_\n",
        "\n",
        "plt.figure(figsize=(12,8))\n",
        "plt.plot(K, inertias, 'bx-')\n",
        "plt.xlabel('Values of K')\n",
        "plt.title('The Elbow Method Graph')\n",
        "plt.show()"
      ],
      "execution_count": 55,
      "outputs": [
        {
          "output_type": "display_data",
          "data": {
            "image/png": "[encoded data removed]",
            "text/plain": [
              "<Figure size 864x576 with 1 Axes>"
            ]
          },
          "metadata": {
            "tags": [],
            "needs_background": "light"
          }
        }
      ]
    },
    {
      "cell_type": "markdown",
      "metadata": {
        "id": "x5VxTPRH32bk"
      },
      "source": [
        "Clustering"
      ]
    },
    {
      "cell_type": "code",
      "metadata": {
        "colab": {
          "base_uri": "https://localhost:8080/",
          "height": 516
        },
        "id": "_0EQvfdXkb_l",
        "outputId": "a3b49f19-fea2-486c-d942-3590fa749154"
      },
      "source": [
        "import matplotlib.pyplot as plt\n",
        "import seaborn as sns\n",
        "\n",
        "km2 = KMeans(n_clusters=3).fit(dftrain_scal)\n",
        "dftrain_scal['Cluster'] = km2.labels_\n",
        "\n",
        "plt.figure(figsize=(12, 8))\n",
        "sns.scatterplot(\n",
        "    x=dftrain_scal['Kematian_anak'],\n",
        "    y=dftrain_scal['Ekspor'],\n",
        "    hue=dftrain_scal['Cluster'],\n",
        "    legend=True,\n",
        "    s=100,\n",
        "    palette='coolwarm'\n",
        ")\n",
        "\n",
        "centers = km2.cluster_centers_\n",
        "plt.scatter(centers[:,0], centers[:,1], c='yellow', s=300, alpha=1 , marker='*')"
      ],
      "execution_count": 59,
      "outputs": [
        {
          "output_type": "execute_result",
          "data": {
            "text/plain": [
              "<matplotlib.collections.PathCollection at 0x7fee005f0210>"
            ]
          },
          "metadata": {
            "tags": []
          },
          "execution_count": 59
        },
        {
          "output_type": "display_data",
          "data": {
            "image/png": "[encoded data removed]",
            "text/plain": [
              "<Figure size 864x576 with 1 Axes>"
            ]
          },
          "metadata": {
            "tags": [],
            "needs_background": "light"
          }
        }
      ]
    },
    {
      "cell_type": "markdown",
      "metadata": {
        "id": "cMLThyJh3460"
      },
      "source": [
        "Hasil Akhir"
      ]
    },
    {
      "cell_type": "code",
      "metadata": {
        "id": "FvPZM082ncAm"
      },
      "source": [
        "databarin = pd.DataFrame([df_train['Negara'], dftrain_scal['Cluster']])\n",
        "databarin = databarin.transpose()"
      ],
      "execution_count": 64,
      "outputs": []
    },
    {
      "cell_type": "code",
      "metadata": {
        "colab": {
          "base_uri": "https://localhost:8080/"
        },
        "id": "UCQpkuZI8EYl",
        "outputId": "0e9a193b-ca4e-4bc7-da1b-cd7d1a058196"
      },
      "source": [
        "databarin[databarin['Cluster'] == 2]['Negara']"
      ],
      "execution_count": 65,
      "outputs": [
        {
          "output_type": "execute_result",
          "data": {
            "text/plain": [
              "0                   Afghanistan\n",
              "3                        Angola\n",
              "17                        Benin\n",
              "25                 Burkina Faso\n",
              "26                      Burundi\n",
              "28                     Cameroon\n",
              "31     Central African Republic\n",
              "32                         Chad\n",
              "36                      Comoros\n",
              "37             Congo, Dem. Rep.\n",
              "40                Cote d'Ivoire\n",
              "50                      Eritrea\n",
              "56                       Gambia\n",
              "59                        Ghana\n",
              "63                       Guinea\n",
              "64                Guinea-Bissau\n",
              "66                        Haiti\n",
              "69                        India\n",
              "80                        Kenya\n",
              "81                     Kiribati\n",
              "84                          Lao\n",
              "87                      Lesotho\n",
              "88                      Liberia\n",
              "93                   Madagascar\n",
              "94                       Malawi\n",
              "97                         Mali\n",
              "99                   Mauritania\n",
              "106                  Mozambique\n",
              "107                     Myanmar\n",
              "112                       Niger\n",
              "113                     Nigeria\n",
              "116                    Pakistan\n",
              "126                      Rwanda\n",
              "129                     Senegal\n",
              "132                Sierra Leone\n",
              "142                       Sudan\n",
              "147                    Tanzania\n",
              "149                 Timor-Leste\n",
              "150                        Togo\n",
              "155                      Uganda\n",
              "166                      Zambia\n",
              "Name: Negara, dtype: object"
            ]
          },
          "metadata": {
            "tags": []
          },
          "execution_count": 65
        }
      ]
    }
  ]
}